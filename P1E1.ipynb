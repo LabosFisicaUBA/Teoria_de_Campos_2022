{
 "cells": [
  {
   "cell_type": "code",
   "execution_count": null,
   "metadata": {},
   "outputs": [],
   "source": [
    "import matplotlib.pyplot as plt\n",
    "import scipy as sp\n",
    "import numpy as np\n",
    "from sympy import *\n",
    "\n",
    "D = 3\n",
    "G = []\n",
    "N = int((D*(D-1))/2)\n",
    "M= zeros(D)\n",
    "\n",
    "for i in range(1,D):\n",
    "    M= zeros(D) # Crea Matrix de Ceros\n",
    "    M[0, i] = (-1)**(i+j+1)      # Inserta elementos del Generador de SO(D)\n",
    "    M[i,0] = (-1)**(i+j)\n",
    "    G.append(M) # Agrega a la lista de Generadores\n",
    "n = len(G)\n",
    "for i in range( n ):\n",
    "    for j in range(i+1,n):\n",
    "        #print(i,j)\n",
    "        M = ((-1)**(i+j))*(G[i]*G[j] - G[j]*G[i])\n",
    "        G.append(M) # Agrega a la lista de Generadores\n",
    "\n",
    "print(\"Dimension del espacio teoria : \", N)\n",
    "print(\"Dimension del espacio calculada : \",len(G))"
   ]
  },
  {
   "cell_type": "code",
   "execution_count": null,
   "metadata": {},
   "outputs": [],
   "source": [
    "print(\"Generadores del Grupo SO(D)\")\n",
    "for M in G:\n",
    "    pprint(\" \")\n",
    "    pprint(M)"
   ]
  },
  {
   "cell_type": "markdown",
   "metadata": {},
   "source": [
    "Veamos que las L satisfacen un Algebra de Lie :"
   ]
  },
  {
   "cell_type": "code",
   "execution_count": null,
   "metadata": {},
   "outputs": [],
   "source": [
    "for i in range(N):\n",
    "    for j in range(i+1,N):\n",
    "        print(\"i = \",i,\" j = \",j )\n",
    "        E = G[i]*G[j]-G[j]*G[i]\n",
    "        pprint(\" \")\n",
    "        pprint(E)\n",
    "        pprint(\" \")"
   ]
  },
  {
   "cell_type": "code",
   "execution_count": null,
   "metadata": {},
   "outputs": [],
   "source": [
    "param = Symbol(\"theta_0\", real = True)\n",
    "#M = eye(D)*param\n",
    "M = zeros(D)*param\n",
    "for index in range(len(G)):\n",
    "    param = Symbol(\"theta_\"+str(index+1), real=True)\n",
    "    M = M + G[index]*param # Crea la matriz parametrizada\n",
    "pprint(M)\n",
    "#pprint(M.det())\n",
    "#pprint((M.transpose()*M).trace())\n",
    "#R = exp(M)\n",
    "#pprint(R)"
   ]
  },
  {
   "cell_type": "code",
   "execution_count": null,
   "metadata": {},
   "outputs": [],
   "source": [
    "L = []\n",
    "for index in range(len(G)):\n",
    "    param = Symbol(\"theta_\"+str(index+1), real=True)\n",
    "    M = exp(G[index]*param) # Crea la matriz del rotacion como L = exp(M*theta)\n",
    "    L.append(M)"
   ]
  },
  {
   "cell_type": "code",
   "execution_count": null,
   "metadata": {},
   "outputs": [],
   "source": [
    "print(\"Representaciones del Grupo SO(D)\")\n",
    "for M in L :\n",
    "    pprint(\" \")\n",
    "    pprint(M)"
   ]
  },
  {
   "cell_type": "markdown",
   "metadata": {},
   "source": [
    "Veamos que efectivamente estas matrices satisfacen que son elementos del grupo SO(D) :"
   ]
  },
  {
   "cell_type": "code",
   "execution_count": null,
   "metadata": {},
   "outputs": [],
   "source": [
    "print(\"M transpuesta por M : \")\n",
    "for index in range(len(L)):\n",
    "    pprint(\" \")\n",
    "    pprint(simplify(L[index].transpose()*L[index])) # calcula L transpuesta por L "
   ]
  },
  {
   "cell_type": "markdown",
   "metadata": {},
   "source": [
    "Y verificamos que efectivamente el determinante de cada matrix es igual a 1"
   ]
  },
  {
   "cell_type": "code",
   "execution_count": null,
   "metadata": {},
   "outputs": [],
   "source": [
    "print(\"Determinante de M \")\n",
    "for index in range(len(L)):\n",
    "    pprint(\" \")\n",
    "    print(\"det(L\"+str(index+1)+\") = \")\n",
    "    pprint(simplify((L[index]).det())) # calcula el determinante de L "
   ]
  },
  {
   "cell_type": "code",
   "execution_count": null,
   "metadata": {},
   "outputs": [],
   "source": [
    "M = eye(D)\n",
    "Lr = reversed(L)\n",
    "for Mp in Lr :\n",
    "    M = simplify( Mp * M)\n",
    "pprint(M)"
   ]
  },
  {
   "cell_type": "code",
   "execution_count": null,
   "metadata": {},
   "outputs": [],
   "source": []
  }
 ],
 "metadata": {
  "kernelspec": {
   "display_name": "Python 3",
   "language": "python",
   "name": "python3"
  },
  "language_info": {
   "codemirror_mode": {
    "name": "ipython",
    "version": 3
   },
   "file_extension": ".py",
   "mimetype": "text/x-python",
   "name": "python",
   "nbconvert_exporter": "python",
   "pygments_lexer": "ipython3",
   "version": "3.6.10"
  }
 },
 "nbformat": 4,
 "nbformat_minor": 4
}
