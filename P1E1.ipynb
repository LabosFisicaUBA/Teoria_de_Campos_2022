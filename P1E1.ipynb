{
 "cells": [
  {
   "cell_type": "code",
   "execution_count": 50,
   "metadata": {},
   "outputs": [
    {
     "name": "stdout",
     "output_type": "stream",
     "text": [
      "Dimension del espacio teoria :  6\n",
      "Dimension del espacio calculada :  6\n"
     ]
    }
   ],
   "source": [
    "import matplotlib.pyplot as plt\n",
    "import scipy as sp\n",
    "import numpy as np\n",
    "from sympy import *\n",
    "\n",
    "D=4\n",
    "G = []\n",
    "N = int((D*(D-1))/2)\n",
    "M= zeros(D)\n",
    "for i in range(D):\n",
    "    for j in range(i+1,D):\n",
    "        M= zeros(D) # Crea Matrix de Ceros\n",
    "        M[i, j] = 1      # Inserta elementos del Generador de SO(D)\n",
    "        M[j,i] = -1\n",
    "        G.append(M) # Agrega a la lista de Generadores\n",
    "    \n",
    "print(\"Dimension del espacio teoria : \", N)\n",
    "print(\"Dimension del espacio calculada : \",len(G))"
   ]
  },
  {
   "cell_type": "code",
   "execution_count": 51,
   "metadata": {},
   "outputs": [
    {
     "name": "stdout",
     "output_type": "stream",
     "text": [
      "Generadores del Grupo SO(D)\n",
      " \n",
      "⎡0   1  0  0⎤\n",
      "⎢           ⎥\n",
      "⎢-1  0  0  0⎥\n",
      "⎢           ⎥\n",
      "⎢0   0  0  0⎥\n",
      "⎢           ⎥\n",
      "⎣0   0  0  0⎦\n",
      " \n",
      "⎡0   0  1  0⎤\n",
      "⎢           ⎥\n",
      "⎢0   0  0  0⎥\n",
      "⎢           ⎥\n",
      "⎢-1  0  0  0⎥\n",
      "⎢           ⎥\n",
      "⎣0   0  0  0⎦\n",
      " \n",
      "⎡0   0  0  1⎤\n",
      "⎢           ⎥\n",
      "⎢0   0  0  0⎥\n",
      "⎢           ⎥\n",
      "⎢0   0  0  0⎥\n",
      "⎢           ⎥\n",
      "⎣-1  0  0  0⎦\n",
      " \n",
      "⎡0  0   0  0⎤\n",
      "⎢           ⎥\n",
      "⎢0  0   1  0⎥\n",
      "⎢           ⎥\n",
      "⎢0  -1  0  0⎥\n",
      "⎢           ⎥\n",
      "⎣0  0   0  0⎦\n",
      " \n",
      "⎡0  0   0  0⎤\n",
      "⎢           ⎥\n",
      "⎢0  0   0  1⎥\n",
      "⎢           ⎥\n",
      "⎢0  0   0  0⎥\n",
      "⎢           ⎥\n",
      "⎣0  -1  0  0⎦\n",
      " \n",
      "⎡0  0  0   0⎤\n",
      "⎢           ⎥\n",
      "⎢0  0  0   0⎥\n",
      "⎢           ⎥\n",
      "⎢0  0  0   1⎥\n",
      "⎢           ⎥\n",
      "⎣0  0  -1  0⎦\n"
     ]
    }
   ],
   "source": [
    "print(\"Generadores del Grupo SO(D)\")\n",
    "for M in G:\n",
    "    pprint(\" \")\n",
    "    pprint(M)"
   ]
  },
  {
   "cell_type": "code",
   "execution_count": 65,
   "metadata": {},
   "outputs": [],
   "source": [
    "L = []\n",
    "for index in range(len(G)):\n",
    "    param = Symbol(\"theta_\"+str(index+1), real=True)\n",
    "    M = exp(G[index]*param) # Crea la matriz del rotacion como L = exp(M*theta)\n",
    "    L.append(M)"
   ]
  },
  {
   "cell_type": "code",
   "execution_count": 66,
   "metadata": {},
   "outputs": [
    {
     "name": "stdout",
     "output_type": "stream",
     "text": [
      "Representaciones del Grupo SO(D)\n",
      " \n",
      "⎡cos(θ₁)   sin(θ₁)  0  0⎤\n",
      "⎢                       ⎥\n",
      "⎢-sin(θ₁)  cos(θ₁)  0  0⎥\n",
      "⎢                       ⎥\n",
      "⎢   0         0     1  0⎥\n",
      "⎢                       ⎥\n",
      "⎣   0         0     0  1⎦\n",
      " \n",
      "⎡cos(θ₂)   0  sin(θ₂)  0⎤\n",
      "⎢                       ⎥\n",
      "⎢   0      1     0     0⎥\n",
      "⎢                       ⎥\n",
      "⎢-sin(θ₂)  0  cos(θ₂)  0⎥\n",
      "⎢                       ⎥\n",
      "⎣   0      0     0     1⎦\n",
      " \n",
      "⎡cos(θ₃)   0  0  sin(θ₃)⎤\n",
      "⎢                       ⎥\n",
      "⎢   0      1  0     0   ⎥\n",
      "⎢                       ⎥\n",
      "⎢   0      0  1     0   ⎥\n",
      "⎢                       ⎥\n",
      "⎣-sin(θ₃)  0  0  cos(θ₃)⎦\n",
      " \n",
      "⎡1     0         0     0⎤\n",
      "⎢                       ⎥\n",
      "⎢0  cos(θ₄)   sin(θ₄)  0⎥\n",
      "⎢                       ⎥\n",
      "⎢0  -sin(θ₄)  cos(θ₄)  0⎥\n",
      "⎢                       ⎥\n",
      "⎣0     0         0     1⎦\n",
      " \n",
      "⎡1     0      0     0   ⎤\n",
      "⎢                       ⎥\n",
      "⎢0  cos(θ₅)   0  sin(θ₅)⎥\n",
      "⎢                       ⎥\n",
      "⎢0     0      1     0   ⎥\n",
      "⎢                       ⎥\n",
      "⎣0  -sin(θ₅)  0  cos(θ₅)⎦\n",
      " \n",
      "⎡1  0     0         0   ⎤\n",
      "⎢                       ⎥\n",
      "⎢0  1     0         0   ⎥\n",
      "⎢                       ⎥\n",
      "⎢0  0  cos(θ₆)   sin(θ₆)⎥\n",
      "⎢                       ⎥\n",
      "⎣0  0  -sin(θ₆)  cos(θ₆)⎦\n"
     ]
    }
   ],
   "source": [
    "print(\"Representaciones del Grupo SO(D)\")\n",
    "for M in L :\n",
    "    pprint(\" \")\n",
    "    pprint(M)"
   ]
  },
  {
   "cell_type": "markdown",
   "metadata": {},
   "source": [
    "Veamos que efectivamente estas matrices satisfacen que son elementos del grupo SO(D) :"
   ]
  },
  {
   "cell_type": "code",
   "execution_count": 67,
   "metadata": {},
   "outputs": [
    {
     "name": "stdout",
     "output_type": "stream",
     "text": [
      "M transpuesta por M : \n",
      " \n",
      "⎡1  0  0  0⎤\n",
      "⎢          ⎥\n",
      "⎢0  1  0  0⎥\n",
      "⎢          ⎥\n",
      "⎢0  0  1  0⎥\n",
      "⎢          ⎥\n",
      "⎣0  0  0  1⎦\n",
      " \n",
      "⎡1  0  0  0⎤\n",
      "⎢          ⎥\n",
      "⎢0  1  0  0⎥\n",
      "⎢          ⎥\n",
      "⎢0  0  1  0⎥\n",
      "⎢          ⎥\n",
      "⎣0  0  0  1⎦\n",
      " \n",
      "⎡1  0  0  0⎤\n",
      "⎢          ⎥\n",
      "⎢0  1  0  0⎥\n",
      "⎢          ⎥\n",
      "⎢0  0  1  0⎥\n",
      "⎢          ⎥\n",
      "⎣0  0  0  1⎦\n",
      " \n",
      "⎡1  0  0  0⎤\n",
      "⎢          ⎥\n",
      "⎢0  1  0  0⎥\n",
      "⎢          ⎥\n",
      "⎢0  0  1  0⎥\n",
      "⎢          ⎥\n",
      "⎣0  0  0  1⎦\n",
      " \n",
      "⎡1  0  0  0⎤\n",
      "⎢          ⎥\n",
      "⎢0  1  0  0⎥\n",
      "⎢          ⎥\n",
      "⎢0  0  1  0⎥\n",
      "⎢          ⎥\n",
      "⎣0  0  0  1⎦\n",
      " \n",
      "⎡1  0  0  0⎤\n",
      "⎢          ⎥\n",
      "⎢0  1  0  0⎥\n",
      "⎢          ⎥\n",
      "⎢0  0  1  0⎥\n",
      "⎢          ⎥\n",
      "⎣0  0  0  1⎦\n"
     ]
    }
   ],
   "source": [
    "print(\"M transpuesta por M : \")\n",
    "for index in range(len(L)):\n",
    "    pprint(\" \")\n",
    "    pprint(simplify(L[index].transpose()*L[index])) # calcula L transpuesta por L "
   ]
  },
  {
   "cell_type": "markdown",
   "metadata": {},
   "source": [
    "Y verificamos que efectivamente el determinante de cada matrix es igual a 1"
   ]
  },
  {
   "cell_type": "code",
   "execution_count": 68,
   "metadata": {},
   "outputs": [
    {
     "name": "stdout",
     "output_type": "stream",
     "text": [
      "Determinante de M \n",
      " \n",
      "det(L1) = \n",
      "1\n",
      " \n",
      "det(L2) = \n",
      "1\n",
      " \n",
      "det(L3) = \n",
      "1\n",
      " \n",
      "det(L4) = \n",
      "1\n",
      " \n",
      "det(L5) = \n",
      "1\n",
      " \n",
      "det(L6) = \n",
      "1\n"
     ]
    }
   ],
   "source": [
    "print(\"Determinante de M \")\n",
    "for index in range(len(L)):\n",
    "    pprint(\" \")\n",
    "    print(\"det(L\"+str(index+1)+\") = \")\n",
    "    pprint(simplify((L[index]).det())) # calcula el determinante de L "
   ]
  },
  {
   "cell_type": "code",
   "execution_count": null,
   "metadata": {},
   "outputs": [],
   "source": []
  }
 ],
 "metadata": {
  "kernelspec": {
   "display_name": "Python 3",
   "language": "python",
   "name": "python3"
  },
  "language_info": {
   "codemirror_mode": {
    "name": "ipython",
    "version": 3
   },
   "file_extension": ".py",
   "mimetype": "text/x-python",
   "name": "python",
   "nbconvert_exporter": "python",
   "pygments_lexer": "ipython3",
   "version": "3.6.10"
  }
 },
 "nbformat": 4,
 "nbformat_minor": 4
}
