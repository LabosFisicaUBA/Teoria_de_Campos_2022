{
 "cells": [
  {
   "cell_type": "code",
   "execution_count": 42,
   "metadata": {},
   "outputs": [
    {
     "name": "stdout",
     "output_type": "stream",
     "text": [
      "Dimension del espacio teoria :  3\n",
      "Dimension del espacio calculada :  3\n"
     ]
    }
   ],
   "source": [
    "import matplotlib.pyplot as plt\n",
    "import scipy as sp\n",
    "import numpy as np\n",
    "from sympy import *\n",
    "\n",
    "D = 3\n",
    "G = []\n",
    "N = int((D*(D-1))/2)\n",
    "M= zeros(D)\n",
    "##factor = (sqrt(2))**-1\n",
    "#factor = 1\n",
    "#k = int(D/N) - 1\n",
    "for i in range(D):\n",
    "    for j in range(i+1,D):\n",
    "        M= zeros(D) # Crea Matrix de Ceros\n",
    "        M[i, j] = (-1)**(i+j)      # Inserta elementos del Generador de SO(D)\n",
    "        M[j,i] = (-1)**(i+j+1)\n",
    " #       if ( ( (N/D) > 1) and (i+k < D) and (j+k <D) ):\n",
    " #           M[i+k,j+k] = 1\n",
    " #           M[j+k,i+k] = -1\n",
    " #           M = factor*M\n",
    "        G.append(M) # Agrega a la lista de Generadores\n",
    "    \n",
    "print(\"Dimension del espacio teoria : \", N)\n",
    "print(\"Dimension del espacio calculada : \",len(G))"
   ]
  },
  {
   "cell_type": "code",
   "execution_count": 43,
   "metadata": {},
   "outputs": [
    {
     "name": "stdout",
     "output_type": "stream",
     "text": [
      "Generadores del Grupo SO(D)\n",
      " \n",
      "⎡0  -1  0⎤\n",
      "⎢        ⎥\n",
      "⎢1  0   0⎥\n",
      "⎢        ⎥\n",
      "⎣0  0   0⎦\n",
      " \n",
      "⎡0   0  1⎤\n",
      "⎢        ⎥\n",
      "⎢0   0  0⎥\n",
      "⎢        ⎥\n",
      "⎣-1  0  0⎦\n",
      " \n",
      "⎡0  0  0 ⎤\n",
      "⎢        ⎥\n",
      "⎢0  0  -1⎥\n",
      "⎢        ⎥\n",
      "⎣0  1  0 ⎦\n"
     ]
    }
   ],
   "source": [
    "print(\"Generadores del Grupo SO(D)\")\n",
    "for M in G:\n",
    "    pprint(\" \")\n",
    "    pprint(M)"
   ]
  },
  {
   "cell_type": "markdown",
   "metadata": {},
   "source": [
    "Veamos que las L satisfacen un Algebra de Lie :"
   ]
  },
  {
   "cell_type": "code",
   "execution_count": 44,
   "metadata": {},
   "outputs": [
    {
     "name": "stdout",
     "output_type": "stream",
     "text": [
      "i =  0  j =  1\n",
      " \n",
      "⎡0  0   0⎤\n",
      "⎢        ⎥\n",
      "⎢0  0   1⎥\n",
      "⎢        ⎥\n",
      "⎣0  -1  0⎦\n",
      " \n",
      "i =  0  j =  2\n",
      " \n",
      "⎡0   0  1⎤\n",
      "⎢        ⎥\n",
      "⎢0   0  0⎥\n",
      "⎢        ⎥\n",
      "⎣-1  0  0⎦\n",
      " \n",
      "i =  1  j =  2\n",
      " \n",
      "⎡0   1  0⎤\n",
      "⎢        ⎥\n",
      "⎢-1  0  0⎥\n",
      "⎢        ⎥\n",
      "⎣0   0  0⎦\n",
      " \n"
     ]
    }
   ],
   "source": [
    "for i in range(N):\n",
    "    for j in range(i+1,N):\n",
    "        print(\"i = \",i,\" j = \",j )\n",
    "        E = G[i]*G[j]-G[j]*G[i]\n",
    "        pprint(\" \")\n",
    "        pprint(E)\n",
    "        pprint(\" \")"
   ]
  },
  {
   "cell_type": "code",
   "execution_count": 45,
   "metadata": {},
   "outputs": [
    {
     "name": "stdout",
     "output_type": "stream",
     "text": [
      "⎡ 0   -θ₁  θ₂ ⎤\n",
      "⎢             ⎥\n",
      "⎢θ₁    0   -θ₃⎥\n",
      "⎢             ⎥\n",
      "⎣-θ₂  θ₃    0 ⎦\n"
     ]
    }
   ],
   "source": [
    "param = Symbol(\"theta_0\", real = True)\n",
    "#M = eye(D)*param\n",
    "M = zeros(D)*param\n",
    "for index in range(len(G)):\n",
    "    param = Symbol(\"theta_\"+str(index+1), real=True)\n",
    "    M = M + G[index]*param # Crea la matriz parametrizada\n",
    "pprint(M)\n",
    "#pprint(M.det())\n",
    "#pprint((M.transpose()*M).trace())\n",
    "#R = exp(M)\n",
    "#pprint(R)"
   ]
  },
  {
   "cell_type": "code",
   "execution_count": 46,
   "metadata": {},
   "outputs": [],
   "source": [
    "L = []\n",
    "for index in range(len(G)):\n",
    "    param = Symbol(\"theta_\"+str(index+1), real=True)\n",
    "    M = exp(G[index]*param) # Crea la matriz del rotacion como L = exp(M*theta)\n",
    "    L.append(M)"
   ]
  },
  {
   "cell_type": "code",
   "execution_count": 47,
   "metadata": {},
   "outputs": [
    {
     "name": "stdout",
     "output_type": "stream",
     "text": [
      "Representaciones del Grupo SO(D)\n",
      " \n",
      "⎡cos(θ₁)  -sin(θ₁)  0⎤\n",
      "⎢                    ⎥\n",
      "⎢sin(θ₁)  cos(θ₁)   0⎥\n",
      "⎢                    ⎥\n",
      "⎣   0        0      1⎦\n",
      " \n",
      "⎡cos(θ₂)   0  sin(θ₂)⎤\n",
      "⎢                    ⎥\n",
      "⎢   0      1     0   ⎥\n",
      "⎢                    ⎥\n",
      "⎣-sin(θ₂)  0  cos(θ₂)⎦\n",
      " \n",
      "⎡1     0        0    ⎤\n",
      "⎢                    ⎥\n",
      "⎢0  cos(θ₃)  -sin(θ₃)⎥\n",
      "⎢                    ⎥\n",
      "⎣0  sin(θ₃)  cos(θ₃) ⎦\n"
     ]
    }
   ],
   "source": [
    "print(\"Representaciones del Grupo SO(D)\")\n",
    "for M in L :\n",
    "    pprint(\" \")\n",
    "    pprint(M)"
   ]
  },
  {
   "cell_type": "markdown",
   "metadata": {},
   "source": [
    "Veamos que efectivamente estas matrices satisfacen que son elementos del grupo SO(D) :"
   ]
  },
  {
   "cell_type": "code",
   "execution_count": 48,
   "metadata": {},
   "outputs": [
    {
     "name": "stdout",
     "output_type": "stream",
     "text": [
      "M transpuesta por M : \n",
      " \n",
      "⎡1  0  0⎤\n",
      "⎢       ⎥\n",
      "⎢0  1  0⎥\n",
      "⎢       ⎥\n",
      "⎣0  0  1⎦\n",
      " \n",
      "⎡1  0  0⎤\n",
      "⎢       ⎥\n",
      "⎢0  1  0⎥\n",
      "⎢       ⎥\n",
      "⎣0  0  1⎦\n",
      " \n",
      "⎡1  0  0⎤\n",
      "⎢       ⎥\n",
      "⎢0  1  0⎥\n",
      "⎢       ⎥\n",
      "⎣0  0  1⎦\n"
     ]
    }
   ],
   "source": [
    "print(\"M transpuesta por M : \")\n",
    "for index in range(len(L)):\n",
    "    pprint(\" \")\n",
    "    pprint(simplify(L[index].transpose()*L[index])) # calcula L transpuesta por L "
   ]
  },
  {
   "cell_type": "markdown",
   "metadata": {},
   "source": [
    "Y verificamos que efectivamente el determinante de cada matrix es igual a 1"
   ]
  },
  {
   "cell_type": "code",
   "execution_count": 49,
   "metadata": {},
   "outputs": [
    {
     "name": "stdout",
     "output_type": "stream",
     "text": [
      "Determinante de M \n",
      " \n",
      "det(L1) = \n",
      "1\n",
      " \n",
      "det(L2) = \n",
      "1\n",
      " \n",
      "det(L3) = \n",
      "1\n"
     ]
    }
   ],
   "source": [
    "print(\"Determinante de M \")\n",
    "for index in range(len(L)):\n",
    "    pprint(\" \")\n",
    "    print(\"det(L\"+str(index+1)+\") = \")\n",
    "    pprint(simplify((L[index]).det())) # calcula el determinante de L "
   ]
  },
  {
   "cell_type": "code",
   "execution_count": 50,
   "metadata": {},
   "outputs": [
    {
     "name": "stdout",
     "output_type": "stream",
     "text": [
      "⎡cos(θ₁)⋅cos(θ₂)  -sin(θ₁)⋅cos(θ₃) + sin(θ₂)⋅sin(θ₃)⋅cos(θ₁)  sin(θ₁)⋅sin(θ₃) \n",
      "⎢                                                                             \n",
      "⎢sin(θ₁)⋅cos(θ₂)  sin(θ₁)⋅sin(θ₂)⋅sin(θ₃) + cos(θ₁)⋅cos(θ₃)   sin(θ₁)⋅sin(θ₂)⋅\n",
      "⎢                                                                             \n",
      "⎣   -sin(θ₂)                   sin(θ₃)⋅cos(θ₂)                             cos\n",
      "\n",
      "+ sin(θ₂)⋅cos(θ₁)⋅cos(θ₃)⎤\n",
      "                         ⎥\n",
      "cos(θ₃) - sin(θ₃)⋅cos(θ₁)⎥\n",
      "                         ⎥\n",
      "(θ₂)⋅cos(θ₃)             ⎦\n"
     ]
    }
   ],
   "source": [
    "M = eye(D)\n",
    "Lr = reversed(L)\n",
    "for Mp in Lr :\n",
    "    M = simplify( Mp * M)\n",
    "pprint(M)"
   ]
  },
  {
   "cell_type": "code",
   "execution_count": null,
   "metadata": {},
   "outputs": [],
   "source": []
  }
 ],
 "metadata": {
  "kernelspec": {
   "display_name": "Python 3",
   "language": "python",
   "name": "python3"
  }
 },
 "nbformat": 4,
 "nbformat_minor": 4
}
